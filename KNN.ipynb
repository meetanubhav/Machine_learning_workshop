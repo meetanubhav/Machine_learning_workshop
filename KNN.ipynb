{
  "nbformat": 4,
  "nbformat_minor": 0,
  "metadata": {
    "colab": {
      "name": "KNN.ipynb",
      "version": "0.3.2",
      "provenance": [],
      "include_colab_link": true
    },
    "kernelspec": {
      "name": "python3",
      "display_name": "Python 3"
    }
  },
  "cells": [
    {
      "cell_type": "markdown",
      "metadata": {
        "id": "view-in-github",
        "colab_type": "text"
      },
      "source": [
        "<a href=\"https://colab.research.google.com/github/meetanubhav/Machine_learning_workshop/blob/master/KNN.ipynb\" target=\"_parent\"><img src=\"https://colab.research.google.com/assets/colab-badge.svg\" alt=\"Open In Colab\"/></a>"
      ]
    },
    {
      "cell_type": "code",
      "metadata": {
        "id": "6L6cuZvjxc52",
        "colab_type": "code",
        "colab": {}
      },
      "source": [
        "from sklearn.datasets import make_blobs\n",
        "import matplotlib.pyplot as plt"
      ],
      "execution_count": 0,
      "outputs": []
    },
    {
      "cell_type": "code",
      "metadata": {
        "id": "RJGPxrDRxmZH",
        "colab_type": "code",
        "colab": {
          "base_uri": "https://localhost:8080/",
          "height": 1000
        },
        "outputId": "cc636fd4-b1db-40ea-c64d-df79d4e8ae6b"
      },
      "source": [
        "X,Y = make_blobs(cluster_std=0.2,center_box=(-1.0,1.0))\n",
        "print(X)"
      ],
      "execution_count": 12,
      "outputs": [
        {
          "output_type": "stream",
          "text": [
            "[[-0.86552761  0.41830012]\n",
            " [ 0.64490966 -0.65612589]\n",
            " [ 0.49032683 -0.44086434]\n",
            " [ 0.53190538 -0.96729487]\n",
            " [-0.81063402 -0.31869879]\n",
            " [-0.68101387  0.51855765]\n",
            " [-0.87863876 -0.56323162]\n",
            " [ 0.67839055 -0.48992567]\n",
            " [ 1.03902099 -0.5622575 ]\n",
            " [-0.81971122 -0.20509704]\n",
            " [-0.97311596 -0.73469097]\n",
            " [-0.897502    0.53199116]\n",
            " [-0.78306125  0.39370039]\n",
            " [-1.20765604 -0.51931944]\n",
            " [ 0.60382076 -0.42362754]\n",
            " [-0.96102431 -0.52580833]\n",
            " [-1.00791913 -0.1263678 ]\n",
            " [-0.99597752 -0.10296915]\n",
            " [ 0.6109896  -0.79302858]\n",
            " [-0.35598879  0.30548478]\n",
            " [-0.96553703 -0.37441085]\n",
            " [ 0.69262708 -0.27312326]\n",
            " [-0.59442292 -0.44573544]\n",
            " [-0.75185441  0.37905096]\n",
            " [-0.87577524  0.51728112]\n",
            " [-0.75171586  0.20519296]\n",
            " [-0.83591289 -0.60311451]\n",
            " [-0.60615029  0.68934185]\n",
            " [-0.72346413 -0.02123888]\n",
            " [-0.7422361   0.70631699]\n",
            " [-0.95441985 -0.52867402]\n",
            " [ 0.44171943 -0.68735458]\n",
            " [-1.24487215 -0.55954078]\n",
            " [ 0.99695673 -0.79742857]\n",
            " [-0.49769911 -0.41926809]\n",
            " [ 0.58083302 -0.50537608]\n",
            " [ 0.47864726 -0.70855661]\n",
            " [-0.01514868 -0.75691361]\n",
            " [-1.08466555 -0.48803174]\n",
            " [-1.22268627 -0.29473268]\n",
            " [-0.37938966  0.60663544]\n",
            " [ 0.31915238 -0.80961079]\n",
            " [-0.63118179  0.1319686 ]\n",
            " [ 0.64592171 -0.82094421]\n",
            " [ 0.6017421  -0.32745152]\n",
            " [ 0.3742782  -0.59006575]\n",
            " [ 0.10291421 -0.46742035]\n",
            " [-0.8274916   0.53443697]\n",
            " [ 0.39452782 -0.88241401]\n",
            " [-0.98967154 -0.49352599]\n",
            " [-0.92572799 -0.08601891]\n",
            " [-0.71964297  0.37585106]\n",
            " [ 0.41712204 -0.5026011 ]\n",
            " [ 0.45236321 -1.08169611]\n",
            " [-1.23537744 -0.66143102]\n",
            " [-0.59892172  0.61595752]\n",
            " [-0.38786024  0.52389511]\n",
            " [-0.5519278   0.26905504]\n",
            " [ 1.02857885 -0.50090764]\n",
            " [-0.8964955  -0.5035624 ]\n",
            " [-0.57310024  0.41946592]\n",
            " [-0.67251165  0.43356689]\n",
            " [-0.4610546   0.11534412]\n",
            " [-0.43286009  0.65185863]\n",
            " [-0.50205954  0.07310558]\n",
            " [-1.18011202 -0.60318055]\n",
            " [-0.41663966  0.23282189]\n",
            " [-1.16353664 -0.59543944]\n",
            " [ 0.84453448 -0.39665457]\n",
            " [-1.40694141  0.05756061]\n",
            " [-0.89716925 -0.27707872]\n",
            " [ 0.31218885 -0.73070978]\n",
            " [-0.94772222 -0.34117944]\n",
            " [ 0.45767417 -0.89738268]\n",
            " [ 0.39480304 -0.64316132]\n",
            " [-0.75950175 -0.2669806 ]\n",
            " [-0.91143469  0.74826722]\n",
            " [-0.70145469  0.43969701]\n",
            " [-0.99542001 -0.2198593 ]\n",
            " [-0.31380949  0.37564904]\n",
            " [-0.56259081  0.59742289]\n",
            " [-0.87660175 -0.10354178]\n",
            " [ 0.64662225 -0.25194589]\n",
            " [-0.67186599 -0.17734274]\n",
            " [-0.75256902 -0.3755156 ]\n",
            " [-0.40565277  0.59897381]\n",
            " [ 0.98918809 -0.34346822]\n",
            " [-0.65926916 -0.5928555 ]\n",
            " [ 0.85752726 -0.77094839]\n",
            " [-0.53657492  0.4270627 ]\n",
            " [ 0.43035122 -0.5018867 ]\n",
            " [-0.68785093  0.31383717]\n",
            " [ 0.65961574 -0.76847715]\n",
            " [-1.22328946  0.34908854]\n",
            " [-1.38859284 -0.48449948]\n",
            " [-0.8448295  -0.37475492]\n",
            " [ 0.95598351 -0.5732544 ]\n",
            " [ 0.51695134 -0.70251641]\n",
            " [-0.53933911  0.63964539]\n",
            " [-0.68169777 -0.2424529 ]]\n"
          ],
          "name": "stdout"
        }
      ]
    },
    {
      "cell_type": "code",
      "metadata": {
        "id": "aQA9AZAXzGT5",
        "colab_type": "code",
        "colab": {
          "base_uri": "https://localhost:8080/",
          "height": 68
        },
        "outputId": "5744322f-2601-478d-85ad-bd01fed93770"
      },
      "source": [
        "print(Y)"
      ],
      "execution_count": 14,
      "outputs": [
        {
          "output_type": "stream",
          "text": [
            "[1 2 2 2 0 1 0 2 2 0 0 1 1 0 2 0 0 0 2 1 0 2 0 1 1 1 0 1 1 1 0 2 0 2 0 2 2\n",
            " 2 0 0 1 2 1 2 2 2 2 1 2 0 0 1 2 2 0 1 1 1 2 0 1 1 1 1 1 0 1 0 2 0 0 2 0 2\n",
            " 2 0 1 1 0 1 1 0 2 0 0 1 2 0 2 1 2 1 2 1 0 0 2 2 1 0]\n"
          ],
          "name": "stdout"
        }
      ]
    },
    {
      "cell_type": "code",
      "metadata": {
        "id": "dUMNOV31xz8U",
        "colab_type": "code",
        "colab": {
          "base_uri": "https://localhost:8080/",
          "height": 286
        },
        "outputId": "73a4179b-5952-40eb-f1b8-65577421562c"
      },
      "source": [
        "plt.scatter(X[:,0],X[:,1],c=Y)"
      ],
      "execution_count": 16,
      "outputs": [
        {
          "output_type": "execute_result",
          "data": {
            "text/plain": [
              "<matplotlib.collections.PathCollection at 0x7f99b25f6860>"
            ]
          },
          "metadata": {
            "tags": []
          },
          "execution_count": 16
        },
        {
          "output_type": "display_data",
          "data": {
            "image/png": "[encoded data removed]",
            "text/plain": [
              "<Figure size 432x288 with 1 Axes>"
            ]
          },
          "metadata": {
            "tags": []
          }
        }
      ]
    },
    {
      "cell_type": "code",
      "metadata": {
        "id": "IO7wkD0byUDB",
        "colab_type": "code",
        "colab": {}
      },
      "source": [
        ""
      ],
      "execution_count": 0,
      "outputs": []
    }
  ]
}