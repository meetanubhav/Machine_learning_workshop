{
  "nbformat": 4,
  "nbformat_minor": 0,
  "metadata": {
    "colab": {
      "name": "Handwirtten_digit_rec.ipynb",
      "version": "0.3.2",
      "provenance": [],
      "include_colab_link": true
    },
    "kernelspec": {
      "name": "python3",
      "display_name": "Python 3"
    }
  },
  "cells": [
    {
      "cell_type": "markdown",
      "metadata": {
        "id": "view-in-github",
        "colab_type": "text"
      },
      "source": [
        "<a href=\"https://colab.research.google.com/github/meetanubhav/Machine_learning_workshop/blob/master/Handwirtten_digit_rec.ipynb\" target=\"_parent\"><img src=\"https://colab.research.google.com/assets/colab-badge.svg\" alt=\"Open In Colab\"/></a>"
      ]
    },
    {
      "cell_type": "code",
      "metadata": {
        "id": "iEBg_RbT4xXM",
        "colab_type": "code",
        "colab": {
          "base_uri": "https://localhost:8080/",
          "height": 34
        },
        "outputId": "35a4f903-388b-461a-a490-e99e530e4dd5"
      },
      "source": [
        "from keras.datasets import mnist\n",
        "import numpy as np\n",
        "import matplotlib.pyplot as plt"
      ],
      "execution_count": 4,
      "outputs": [
        {
          "output_type": "stream",
          "text": [
            "Using TensorFlow backend.\n"
          ],
          "name": "stderr"
        }
      ]
    },
    {
      "cell_type": "code",
      "metadata": {
        "id": "NAQhbXqX5AoK",
        "colab_type": "code",
        "colab": {
          "base_uri": "https://localhost:8080/",
          "height": 68
        },
        "outputId": "aaf2a107-4508-4795-9a27-7c336ef38f91"
      },
      "source": [
        "(X,Y),(Xt,Yt) = mnist.load_data()\n",
        "print(X.shape,Y.shape,Xt.shape,Yt.shape)\n"
      ],
      "execution_count": 5,
      "outputs": [
        {
          "output_type": "stream",
          "text": [
            "Downloading data from https://s3.amazonaws.com/img-datasets/mnist.npz\n",
            "11493376/11490434 [==============================] - 0s 0us/step\n",
            "(60000, 28, 28) (60000,) (10000, 28, 28) (10000,)\n"
          ],
          "name": "stdout"
        }
      ]
    },
    {
      "cell_type": "code",
      "metadata": {
        "id": "oCPV02vo5rbg",
        "colab_type": "code",
        "colab": {
          "base_uri": "https://localhost:8080/",
          "height": 269
        },
        "outputId": "59b87d4a-ff26-49de-f50c-220e241e1882"
      },
      "source": [
        "plt.imshow(X[0],cmap=\"gray\")\n",
        "plt.show()"
      ],
      "execution_count": 6,
      "outputs": [
        {
          "output_type": "display_data",
          "data": {
            "image/png": "[encoded data removed]",
            "text/plain": [
              "<Figure size 432x288 with 1 Axes>"
            ]
          },
          "metadata": {
            "tags": []
          }
        }
      ]
    },
    {
      "cell_type": "code",
      "metadata": {
        "id": "wFc2VAPr6f2u",
        "colab_type": "code",
        "colab": {
          "base_uri": "https://localhost:8080/",
          "height": 269
        },
        "outputId": "e8341aeb-ad9b-447f-fb65-84ca633b5dbc"
      },
      "source": [
        "plt.imshow(Xt[0],cmap=\"gray\")\n",
        "plt.show()"
      ],
      "execution_count": 7,
      "outputs": [
        {
          "output_type": "display_data",
          "data": {
            "image/png": "[encoded data removed]",
            "text/plain": [
              "<Figure size 432x288 with 1 Axes>"
            ]
          },
          "metadata": {
            "tags": []
          }
        }
      ]
    },
    {
      "cell_type": "code",
      "metadata": {
        "id": "kEc7AohX7NGO",
        "colab_type": "code",
        "colab": {}
      },
      "source": [
        "def dist(a1,a2):\n",
        "  return np.sum((a1-a2)**2)**.5\n",
        "\n",
        "def KNN(X,Y,test_point,k=5):\n",
        "  m = X.shape[0]\n",
        "  all_dist = []\n",
        "  \n",
        "  for i in range(m):\n",
        "    d=dist(test_point,X[i])\n",
        "    all_dist.append((d,Y[i]))\n",
        "    \n",
        "  all_dist.sort()\n",
        "  a=np.array(all_dist[:k])[:,1]\n",
        "#   print(\"nearest point's frequency table\")\n",
        "  \n",
        "  labels,freq=np.unique(a,return_counts=True)\n",
        "#   print(a)\n",
        "#   print(\"\\nlabels \",labels)\n",
        "#   print(\"\\ntotal label frequency \",freq)\n",
        "  \n",
        "  # Finding index of max neighbours\n",
        "  idx=np.argmax(freq)\n",
        "  output = int(labels[idx])\n",
        "  print(\"\\n prediction says -\",end=\" \")\n",
        "  return output\n",
        "  "
      ],
      "execution_count": 0,
      "outputs": []
    },
    {
      "cell_type": "code",
      "metadata": {
        "id": "CqpBJXVa7RC5",
        "colab_type": "code",
        "colab": {
          "base_uri": "https://localhost:8080/",
          "height": 51
        },
        "outputId": "28afea2f-8401-45bf-8100-df11271a1cd7"
      },
      "source": [
        "test_point=X[0]\n",
        "KNN(X,Y,test_point)"
      ],
      "execution_count": 10,
      "outputs": [
        {
          "output_type": "stream",
          "text": [
            "\n",
            " prediction says - "
          ],
          "name": "stdout"
        },
        {
          "output_type": "execute_result",
          "data": {
            "text/plain": [
              "5"
            ]
          },
          "metadata": {
            "tags": []
          },
          "execution_count": 10
        }
      ]
    },
    {
      "cell_type": "code",
      "metadata": {
        "id": "FfSsNAmX7jyP",
        "colab_type": "code",
        "colab": {
          "base_uri": "https://localhost:8080/",
          "height": 51
        },
        "outputId": "9e27c9f1-cad0-4b64-c45c-e0f6360f13de"
      },
      "source": [
        "test_point=X[0]\n",
        "KNN(X,Y,test_point)"
      ],
      "execution_count": 11,
      "outputs": [
        {
          "output_type": "stream",
          "text": [
            "\n",
            " prediction says - "
          ],
          "name": "stdout"
        },
        {
          "output_type": "execute_result",
          "data": {
            "text/plain": [
              "5"
            ]
          },
          "metadata": {
            "tags": []
          },
          "execution_count": 11
        }
      ]
    },
    {
      "cell_type": "code",
      "metadata": {
        "id": "WOlImtAbZEAI",
        "colab_type": "code",
        "colab": {}
      },
      "source": [
        ""
      ],
      "execution_count": 0,
      "outputs": []
    }
  ]
}